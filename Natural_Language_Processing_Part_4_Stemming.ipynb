{
  "nbformat": 4,
  "nbformat_minor": 0,
  "metadata": {
    "colab": {
      "name": "Natural Language Processing Part 4 - Stemming.ipynb",
      "provenance": [],
      "authorship_tag": "ABX9TyMlWnOkPSmheyxdvHc5iXSy",
      "include_colab_link": true
    },
    "kernelspec": {
      "name": "python3",
      "display_name": "Python 3"
    }
  },
  "cells": [
    {
      "cell_type": "markdown",
      "metadata": {
        "id": "view-in-github",
        "colab_type": "text"
      },
      "source": [
        "<a href=\"https://colab.research.google.com/github/iamsaptorshe07/Natural-Language-Processing-Tutorial/blob/master/Natural_Language_Processing_Part_4_Stemming.ipynb\" target=\"_parent\"><img src=\"https://colab.research.google.com/assets/colab-badge.svg\" alt=\"Open In Colab\"/></a>"
      ]
    },
    {
      "cell_type": "markdown",
      "metadata": {
        "id": "dcZZ5_f46fc3",
        "colab_type": "text"
      },
      "source": [
        "<h1>Stemming : </h1> It is the process of finding root words from a given word. <br>\n",
        "Example : <br>\n",
        "<ul>\n",
        "<li> Running - Run </li>\n",
        "<li> Gamming - Game </li>\n",
        "<li> Boating - Boat </li>\n",
        "<li> Easily - Easy </li>  \n",
        "</ul>\n",
        "Type of Stammer <br>\n",
        "<ul>\n",
        "<li>Porter Stammer</li>\n",
        "<li>Snowball stammer</li>\n",
        "</ul>"
      ]
    },
    {
      "cell_type": "code",
      "metadata": {
        "id": "UJjmba4I6B6W",
        "colab_type": "code",
        "colab": {}
      },
      "source": [
        "import re\n",
        "import spacy\n",
        "nlp = spacy.load('en_core_web_sm') # Load the language with which you will be working - in this case it is english\n",
        "import nltk # For stemming nltk is better "
      ],
      "execution_count": 0,
      "outputs": []
    },
    {
      "cell_type": "code",
      "metadata": {
        "id": "n5o6xkijLq9z",
        "colab_type": "code",
        "colab": {
          "base_uri": "https://localhost:8080/",
          "height": 136
        },
        "outputId": "c0f1c1f5-a6c1-41fe-db39-7258e934686f"
      },
      "source": [
        "from nltk.stem import PorterStemmer # Portersteming is old technique and not that accurate\n",
        "p_stmr = PorterStemmer()\n",
        "word_list = ['Run','Runner','Runs','Running','easily','gaming','fairly']\n",
        "for words in word_list:\n",
        "  print(\"{} ---- {}\".format(words,p_stmr.stem(words)))\n"
      ],
      "execution_count": 4,
      "outputs": [
        {
          "output_type": "stream",
          "text": [
            "Run ---- run\n",
            "Runner ---- runner\n",
            "Runs ---- run\n",
            "Running ---- run\n",
            "easily ---- easili\n",
            "gaming ---- game\n",
            "fairly ---- fairli\n"
          ],
          "name": "stdout"
        }
      ]
    },
    {
      "cell_type": "code",
      "metadata": {
        "id": "BHv0mP90Mmys",
        "colab_type": "code",
        "colab": {
          "base_uri": "https://localhost:8080/",
          "height": 136
        },
        "outputId": "9145f3e3-5878-48c4-a7bd-fd5638584f8a"
      },
      "source": [
        "from nltk.stem.snowball import SnowballStemmer # It is descent accurate  compare to Portsremer\n",
        "s_stmr = SnowballStemmer(language='english')\n",
        "for word in word_list:\n",
        "  print('{} ----- {}'.format(word,s_stmr.stem(word)))"
      ],
      "execution_count": 8,
      "outputs": [
        {
          "output_type": "stream",
          "text": [
            "Run ----- run\n",
            "Runner ----- runner\n",
            "Runs ----- run\n",
            "Running ----- run\n",
            "easily ----- easili\n",
            "gaming ----- game\n",
            "fairly ----- fair\n"
          ],
          "name": "stdout"
        }
      ]
    },
    {
      "cell_type": "markdown",
      "metadata": {
        "id": "cNO_D6ClNiHA",
        "colab_type": "text"
      },
      "source": [
        "Stemming is old technique compare to lemitization , so that is the reason stemming is less accurate compare to lemitization."
      ]
    }
  ]
}