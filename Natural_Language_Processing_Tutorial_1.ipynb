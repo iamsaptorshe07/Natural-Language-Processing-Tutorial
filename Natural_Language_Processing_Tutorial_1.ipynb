{
  "nbformat": 4,
  "nbformat_minor": 0,
  "metadata": {
    "colab": {
      "name": "Natural_Language_Processing_Tutorial_1.ipynb",
      "provenance": [],
      "collapsed_sections": [],
      "include_colab_link": true
    },
    "kernelspec": {
      "name": "python3",
      "display_name": "Python 3"
    }
  },
  "cells": [
    {
      "cell_type": "markdown",
      "metadata": {
        "id": "view-in-github",
        "colab_type": "text"
      },
      "source": [
        "<a href=\"https://colab.research.google.com/github/iamsaptorshe07/Natural-Language-Processing-Tutorial/blob/master/Natural_Language_Processing_Tutorial_1.ipynb\" target=\"_parent\"><img src=\"https://colab.research.google.com/assets/colab-badge.svg\" alt=\"Open In Colab\"/></a>"
      ]
    },
    {
      "cell_type": "markdown",
      "metadata": {
        "id": "Bxh98GPx6Mhv",
        "colab_type": "text"
      },
      "source": [
        "Important Libraries for Natural Language Processing : <br>\n",
        "1 : NLTK <br>\n",
        "2 : Spacy <br>\n"
      ]
    },
    {
      "cell_type": "markdown",
      "metadata": {
        "id": "uJsp31DC7Gsf",
        "colab_type": "text"
      },
      "source": [
        "<h1 > Basic Text Mining : String Processing </h1>"
      ]
    },
    {
      "cell_type": "code",
      "metadata": {
        "id": "uZQ7IhTl7Jpz",
        "colab_type": "code",
        "outputId": "2aa6f6c6-c908-45fc-a5d5-5ccd36a13960",
        "colab": {
          "base_uri": "https://localhost:8080/",
          "height": 34
        }
      },
      "source": [
        "# String formatting\n",
        "name = 'Saptorshe Das'\n",
        "print(\"My blog name is {}\".format(name))"
      ],
      "execution_count": 17,
      "outputs": [
        {
          "output_type": "stream",
          "text": [
            "My blog name is Saptorshe Das\n"
          ],
          "name": "stdout"
        }
      ]
    },
    {
      "cell_type": "code",
      "metadata": {
        "id": "u2cRWmVm7hKd",
        "colab_type": "code",
        "colab": {}
      },
      "source": [
        "college = [\n",
        "           ('Saptorshe','CSE','2017-2021'),\n",
        "           ('Amar','CSE','2017-2021')\n",
        "           ]"
      ],
      "execution_count": 0,
      "outputs": []
    },
    {
      "cell_type": "code",
      "metadata": {
        "id": "sEsjXni2856R",
        "colab_type": "code",
        "outputId": "8bcd080f-7538-44ae-d1b1-fbfc936d16c5",
        "colab": {
          "base_uri": "https://localhost:8080/",
          "height": 51
        }
      },
      "source": [
        "for i in college:\n",
        "  print(\"{} is student of {} branch of {} batch\".format(i[0],i[1],i[2]))"
      ],
      "execution_count": 19,
      "outputs": [
        {
          "output_type": "stream",
          "text": [
            "Saptorshe is student of CSE branch of 2017-2021 batch\n",
            "Amar is student of CSE branch of 2017-2021 batch\n"
          ],
          "name": "stdout"
        }
      ]
    },
    {
      "cell_type": "code",
      "metadata": {
        "id": "lKS5Il-O9qyG",
        "colab_type": "code",
        "colab": {}
      },
      "source": [
        "# Working with date time\n",
        "from datetime import datetime\n",
        "present = datetime(day=17,year=2020,month=3)"
      ],
      "execution_count": 0,
      "outputs": []
    },
    {
      "cell_type": "code",
      "metadata": {
        "id": "kx5VhwlF_ltp",
        "colab_type": "code",
        "outputId": "e8b211e6-7e4e-46c5-8cba-f9bfa088d68d",
        "colab": {
          "base_uri": "https://localhost:8080/",
          "height": 102
        }
      },
      "source": [
        "print(present.strftime(\"%B\"))\n",
        "print(present.day)\n",
        "print(present.month)\n",
        "print(present.year)\n",
        "print(present.strftime(\"%b\"))"
      ],
      "execution_count": 21,
      "outputs": [
        {
          "output_type": "stream",
          "text": [
            "March\n",
            "17\n",
            "3\n",
            "2020\n",
            "Mar\n"
          ],
          "name": "stdout"
        }
      ]
    },
    {
      "cell_type": "markdown",
      "metadata": {
        "id": "nhsgIYuTBFO-",
        "colab_type": "text"
      },
      "source": [
        "<h1> Working with Text file </h1>"
      ]
    },
    {
      "cell_type": "code",
      "metadata": {
        "id": "LDswV76B_nuD",
        "colab_type": "code",
        "outputId": "6db07237-10d1-4875-de09-0837ea37724f",
        "colab": {
          "base_uri": "https://localhost:8080/",
          "height": 34
        }
      },
      "source": [
        "# Creating a text file with some text\n",
        "%%writefile sample.txt \n",
        "My name is Saptorshe Das, I am from Amtala\n",
        "By education am a Computer Enginner, By profession am a Data Scientist"
      ],
      "execution_count": 22,
      "outputs": [
        {
          "output_type": "stream",
          "text": [
            "Overwriting sample.txt\n"
          ],
          "name": "stdout"
        }
      ]
    },
    {
      "cell_type": "code",
      "metadata": {
        "id": "RqIvgx4ZDkKW",
        "colab_type": "code",
        "outputId": "404f51e6-ba9c-4f12-cb05-110b3c161ff4",
        "colab": {
          "base_uri": "https://localhost:8080/",
          "height": 34
        }
      },
      "source": [
        "# Reading the file from .txt file\n",
        "file = open('sample.txt', 'r')\n",
        "file.read()"
      ],
      "execution_count": 23,
      "outputs": [
        {
          "output_type": "execute_result",
          "data": {
            "text/plain": [
              "'My name is Saptorshe Das, I am from Amtala\\nBy education am a Computer Enginner, By profession am a Data Scientist'"
            ]
          },
          "metadata": {
            "tags": []
          },
          "execution_count": 23
        }
      ]
    },
    {
      "cell_type": "code",
      "metadata": {
        "id": "xwbtMmy8D7E-",
        "colab_type": "code",
        "outputId": "9b13e601-3356-49c6-fc57-f5a4a39ee2e9",
        "colab": {
          "base_uri": "https://localhost:8080/",
          "height": 34
        }
      },
      "source": [
        "file.read()"
      ],
      "execution_count": 24,
      "outputs": [
        {
          "output_type": "execute_result",
          "data": {
            "text/plain": [
              "''"
            ]
          },
          "metadata": {
            "tags": []
          },
          "execution_count": 24
        }
      ]
    },
    {
      "cell_type": "code",
      "metadata": {
        "id": "AcLJZIhLE2m1",
        "colab_type": "code",
        "colab": {}
      },
      "source": [
        "file.seek(0)\n",
        "text = file.read()"
      ],
      "execution_count": 0,
      "outputs": []
    },
    {
      "cell_type": "code",
      "metadata": {
        "id": "HFSJij5ZE54x",
        "colab_type": "code",
        "outputId": "c79f01d0-d3b8-4e21-80d6-ebdd3cc4ab77",
        "colab": {
          "base_uri": "https://localhost:8080/",
          "height": 51
        }
      },
      "source": [
        "print(text)"
      ],
      "execution_count": 26,
      "outputs": [
        {
          "output_type": "stream",
          "text": [
            "My name is Saptorshe Das, I am from Amtala\n",
            "By education am a Computer Enginner, By profession am a Data Scientist\n"
          ],
          "name": "stdout"
        }
      ]
    },
    {
      "cell_type": "code",
      "metadata": {
        "id": "s5vhdTCvFOjk",
        "colab_type": "code",
        "colab": {}
      },
      "source": [
        "file.close()"
      ],
      "execution_count": 0,
      "outputs": []
    },
    {
      "cell_type": "code",
      "metadata": {
        "id": "ztijtAaSFRSF",
        "colab_type": "code",
        "outputId": "e4ab6a00-361e-4e08-9eac-034503e3b7f3",
        "colab": {
          "base_uri": "https://localhost:8080/",
          "height": 68
        }
      },
      "source": [
        "# Read text file line by line\n",
        "with open('sample.txt','r') as file:\n",
        "  data = file.readlines()\n",
        "  for lines in data:\n",
        "    print(lines)\n",
        "    "
      ],
      "execution_count": 28,
      "outputs": [
        {
          "output_type": "stream",
          "text": [
            "My name is Saptorshe Das, I am from Amtala\n",
            "\n",
            "By education am a Computer Enginner, By profession am a Data Scientist\n"
          ],
          "name": "stdout"
        }
      ]
    },
    {
      "cell_type": "code",
      "metadata": {
        "id": "XBtCKs7jHjFO",
        "colab_type": "code",
        "outputId": "5f99597f-10a8-43f9-aab0-2c0f37cb220a",
        "colab": {
          "base_uri": "https://localhost:8080/",
          "height": 51
        }
      },
      "source": [
        "# Read word by word\n",
        "with open('sample.txt','r') as file:\n",
        "  for lines in file.readlines():\n",
        "    print(lines.split())"
      ],
      "execution_count": 29,
      "outputs": [
        {
          "output_type": "stream",
          "text": [
            "['My', 'name', 'is', 'Saptorshe', 'Das,', 'I', 'am', 'from', 'Amtala']\n",
            "['By', 'education', 'am', 'a', 'Computer', 'Enginner,', 'By', 'profession', 'am', 'a', 'Data', 'Scientist']\n"
          ],
          "name": "stdout"
        }
      ]
    },
    {
      "cell_type": "markdown",
      "metadata": {
        "id": "jP8TFq81Jl29",
        "colab_type": "text"
      },
      "source": [
        "<h1> Working with PDF File </h1>\n",
        "library needed : pyPDF2"
      ]
    },
    {
      "cell_type": "code",
      "metadata": {
        "id": "qAKRmbqzH9qL",
        "colab_type": "code",
        "outputId": "4d2fc8a5-9427-407e-b75a-48e58a881fbd",
        "colab": {
          "base_uri": "https://localhost:8080/",
          "height": 34
        }
      },
      "source": [
        "!pip install PyPDF2"
      ],
      "execution_count": 30,
      "outputs": [
        {
          "output_type": "stream",
          "text": [
            "Requirement already satisfied: PyPDF2 in /usr/local/lib/python3.6/dist-packages (1.26.0)\n"
          ],
          "name": "stdout"
        }
      ]
    },
    {
      "cell_type": "code",
      "metadata": {
        "id": "By5EZv5eJc7j",
        "colab_type": "code",
        "colab": {}
      },
      "source": [
        "import PyPDF2\n",
        "# step 1 - Read the file in binary format\n",
        "# rb stands for read binary\n",
        "# Read file from each page"
      ],
      "execution_count": 0,
      "outputs": []
    },
    {
      "cell_type": "code",
      "metadata": {
        "id": "5iQpZVbVPyxv",
        "colab_type": "code",
        "outputId": "f51b587c-1cf7-413f-f9d4-2a89c7e0ec43",
        "colab": {
          "base_uri": "https://localhost:8080/",
          "height": 88
        }
      },
      "source": [
        "with open('sample.pdf','rb') as file:\n",
        "  pdf_reader = PyPDF2.PdfFileReader(file)\n",
        "  print(pdf_reader.numPages) # Print no of pages\n",
        "  for i in range(pdf_reader.numPages):\n",
        "    content = pdf_reader.getPage(i)\n",
        "    print(content.extractText())"
      ],
      "execution_count": 32,
      "outputs": [
        {
          "output_type": "stream",
          "text": [
            "2\n",
            " A Simple PDF File  This is a small demonstration .pdf file -  just for use in the Virtual Mechanics tutorials. More text. And more  text. And more text. And more text. And more text.  And more text. And more text. And more text. And more text. And more  text. And more text. Boring, zzzzz. And more text. And more text. And  more text. And more text. And more text. And more text. And more text.  And more text. And more text.  And more text. And more text. And more text. And more text. And more  text. And more text. And more text. Even more. Continued on page 2 ...\n",
            " Simple PDF File 2  ...continued from page 1. Yet more text. And more text. And more text.  And more text. And more text. And more text. And more text. And more  text. Oh, how boring typing this stuff. But not as boring as watching  paint dry. And more text. And more text. And more text. And more text.  Boring.  More, a little more text. The end, and just as well. \n"
          ],
          "name": "stdout"
        }
      ]
    },
    {
      "cell_type": "code",
      "metadata": {
        "id": "GSNtTV5yQt_d",
        "colab_type": "code",
        "outputId": "f744457a-d8d7-431e-db2f-fd6f0c7175e0",
        "colab": {
          "base_uri": "https://localhost:8080/",
          "height": 34
        }
      },
      "source": [
        "pdfcopy = open('Copy.pdf','wb') # opening it in write binary form\n",
        "# Create a new PDF file from an existing PDF  File\n",
        "with open('sample.pdf','rb') as file:\n",
        "  pdf_reader = PyPDF2.PdfFileReader(file)\n",
        "  pdf_writer = PyPDF2.PdfFileWriter()\n",
        "  print(pdf_reader.numPages) # Print no of pages\n",
        "  for i in range(pdf_reader.numPages):\n",
        "    content = pdf_reader.getPage(i)\n",
        "    #print(content.extractText())\n",
        "    pdf_writer.addPage(content)\n",
        "    pdf_writer.write(pdfcopy)\n",
        "    "
      ],
      "execution_count": 33,
      "outputs": [
        {
          "output_type": "stream",
          "text": [
            "2\n"
          ],
          "name": "stdout"
        }
      ]
    },
    {
      "cell_type": "code",
      "metadata": {
        "id": "wbzhNVvsPiQl",
        "colab_type": "code",
        "colab": {}
      },
      "source": [
        ""
      ],
      "execution_count": 0,
      "outputs": []
    }
  ]
}