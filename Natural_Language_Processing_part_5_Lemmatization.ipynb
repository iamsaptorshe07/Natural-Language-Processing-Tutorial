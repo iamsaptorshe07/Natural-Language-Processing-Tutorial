{
  "nbformat": 4,
  "nbformat_minor": 0,
  "metadata": {
    "colab": {
      "name": "Natural Language Processing part 5 - Lemmatization.ipynb",
      "provenance": [],
      "authorship_tag": "ABX9TyO/B7AIMYy4Fy557UYeoYo3",
      "include_colab_link": true
    },
    "kernelspec": {
      "name": "python3",
      "display_name": "Python 3"
    }
  },
  "cells": [
    {
      "cell_type": "markdown",
      "metadata": {
        "id": "view-in-github",
        "colab_type": "text"
      },
      "source": [
        "<a href=\"https://colab.research.google.com/github/iamsaptorshe07/Natural-Language-Processing-Tutorial/blob/master/Natural_Language_Processing_part_5_Lemmatization.ipynb\" target=\"_parent\"><img src=\"https://colab.research.google.com/assets/colab-badge.svg\" alt=\"Open In Colab\"/></a>"
      ]
    },
    {
      "cell_type": "markdown",
      "metadata": {
        "id": "MgKlrTupZQHl",
        "colab_type": "text"
      },
      "source": [
        "<h1>Lemmatization :</h1> It is the advance verdion of stemming, or can be said that it is the advance technique of finding root words from a text or word."
      ]
    },
    {
      "cell_type": "code",
      "metadata": {
        "id": "zpA8eWJdX3Ud",
        "colab_type": "code",
        "colab": {}
      },
      "source": [
        "import nltk\n",
        "import spacy"
      ],
      "execution_count": 0,
      "outputs": []
    },
    {
      "cell_type": "code",
      "metadata": {
        "id": "DtnmuaydYtDf",
        "colab_type": "code",
        "colab": {}
      },
      "source": [
        "nlp = spacy.load('en_core_web_sm') # Load the language with which you will be working - in this case it is english"
      ],
      "execution_count": 0,
      "outputs": []
    },
    {
      "cell_type": "code",
      "metadata": {
        "id": "28UuIp-rZPDi",
        "colab_type": "code",
        "colab": {}
      },
      "source": [
        "text = nlp(u'I am a runner running at a race, thinking wisely I started making the progress in this gaming competition.')"
      ],
      "execution_count": 0,
      "outputs": []
    },
    {
      "cell_type": "code",
      "metadata": {
        "id": "OR4RoXmcbNBP",
        "colab_type": "code",
        "colab": {
          "base_uri": "https://localhost:8080/",
          "height": 374
        },
        "outputId": "6c3186ba-df11-41f4-976c-4e008a45cbc2"
      },
      "source": [
        "# performing lemmatization\n",
        "for token in text:\n",
        "  print('{} {} {} {}'.format(token,token.pos,token.lemma,token.lemma_))"
      ],
      "execution_count": 7,
      "outputs": [
        {
          "output_type": "stream",
          "text": [
            "I 95 561228191312463089 -PRON-\n",
            "am 87 10382539506755952630 be\n",
            "a 90 11901859001352538922 a\n",
            "runner 92 12640964157389618806 runner\n",
            "running 100 12767647472892411841 run\n",
            "at 85 11667289587015813222 at\n",
            "a 90 11901859001352538922 a\n",
            "race 92 8048469955494714898 race\n",
            ", 97 2593208677638477497 ,\n",
            "thinking 100 16875814820671380748 think\n",
            "wisely 86 17295539536510804919 wisely\n",
            "I 95 561228191312463089 -PRON-\n",
            "started 100 6480458294193393462 start\n",
            "making 100 9614445426764226664 make\n",
            "the 90 7425985699627899538 the\n",
            "progress 92 3100199706382727292 progress\n",
            "in 85 3002984154512732771 in\n",
            "this 90 1995909169258310477 this\n",
            "gaming 92 12034845724741083696 gaming\n",
            "competition 92 4661638505416061516 competition\n",
            ". 97 12646065887601541794 .\n"
          ],
          "name": "stdout"
        }
      ]
    }
  ]
}