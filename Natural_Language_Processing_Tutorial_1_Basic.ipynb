{
  "nbformat": 4,
  "nbformat_minor": 0,
  "metadata": {
    "colab": {
      "name": "Natural_Language_Processing_Tutorial_1.ipynb",
      "provenance": [],
      "collapsed_sections": [],
      "include_colab_link": true
    },
    "kernelspec": {
      "name": "python3",
      "display_name": "Python 3"
    }
  },
  "cells": [
    {
      "cell_type": "markdown",
      "metadata": {
        "id": "view-in-github",
        "colab_type": "text"
      },
      "source": [
        "<a href=\"https://colab.research.google.com/github/iamsaptorshe07/Natural-Language-Processing-Tutorial/blob/master/Natural_Language_Processing_Tutorial_1_Basic.ipynb\" target=\"_parent\"><img src=\"https://colab.research.google.com/assets/colab-badge.svg\" alt=\"Open In Colab\"/></a>"
      ]
    },
    {
      "cell_type": "markdown",
      "metadata": {
        "id": "Bxh98GPx6Mhv",
        "colab_type": "text"
      },
      "source": [
        "Important Libraries for Natural Language Processing : <br>\n",
        "1 : NLTK <br>\n",
        "2 : Spacy <br>\n"
      ]
    },
    {
      "cell_type": "markdown",
      "metadata": {
        "id": "uJsp31DC7Gsf",
        "colab_type": "text"
      },
      "source": [
        "<h1 > Basic Text Mining : String Processing </h1>"
      ]
    },
    {
      "cell_type": "code",
      "metadata": {
        "id": "uZQ7IhTl7Jpz",
        "colab_type": "code",
        "outputId": "9536344d-fe4e-4722-8f44-2184131f6fdd",
        "colab": {
          "base_uri": "https://localhost:8080/",
          "height": 34
        }
      },
      "source": [
        "# String formatting\n",
        "name = 'Saptorshe Das'\n",
        "print(\"My blog name is {}\".format(name))"
      ],
      "execution_count": 1,
      "outputs": [
        {
          "output_type": "stream",
          "text": [
            "My blog name is Saptorshe Das\n"
          ],
          "name": "stdout"
        }
      ]
    },
    {
      "cell_type": "code",
      "metadata": {
        "id": "u2cRWmVm7hKd",
        "colab_type": "code",
        "colab": {}
      },
      "source": [
        "college = [\n",
        "           ('Saptorshe','CSE','2017-2021'),\n",
        "           ('Amar','CSE','2017-2021')\n",
        "           ]"
      ],
      "execution_count": 0,
      "outputs": []
    },
    {
      "cell_type": "code",
      "metadata": {
        "id": "sEsjXni2856R",
        "colab_type": "code",
        "outputId": "eee498f5-115e-4584-cdd5-d849c5330646",
        "colab": {
          "base_uri": "https://localhost:8080/",
          "height": 51
        }
      },
      "source": [
        "for i in college:\n",
        "  print(\"{} is student of {} branch of {} batch\".format(i[0],i[1],i[2]))"
      ],
      "execution_count": 3,
      "outputs": [
        {
          "output_type": "stream",
          "text": [
            "Saptorshe is student of CSE branch of 2017-2021 batch\n",
            "Amar is student of CSE branch of 2017-2021 batch\n"
          ],
          "name": "stdout"
        }
      ]
    },
    {
      "cell_type": "code",
      "metadata": {
        "id": "lKS5Il-O9qyG",
        "colab_type": "code",
        "colab": {}
      },
      "source": [
        "# Working with date time\n",
        "from datetime import datetime\n",
        "present = datetime(day=17,year=2020,month=3)"
      ],
      "execution_count": 0,
      "outputs": []
    },
    {
      "cell_type": "code",
      "metadata": {
        "id": "kx5VhwlF_ltp",
        "colab_type": "code",
        "outputId": "93e07b36-d2d1-4583-9834-ecb04834084f",
        "colab": {
          "base_uri": "https://localhost:8080/",
          "height": 102
        }
      },
      "source": [
        "print(present.strftime(\"%B\"))\n",
        "print(present.day)\n",
        "print(present.month)\n",
        "print(present.year)\n",
        "print(present.strftime(\"%b\"))"
      ],
      "execution_count": 5,
      "outputs": [
        {
          "output_type": "stream",
          "text": [
            "March\n",
            "17\n",
            "3\n",
            "2020\n",
            "Mar\n"
          ],
          "name": "stdout"
        }
      ]
    },
    {
      "cell_type": "markdown",
      "metadata": {
        "id": "nhsgIYuTBFO-",
        "colab_type": "text"
      },
      "source": [
        "<h1> Working with Text file </h1>"
      ]
    },
    {
      "cell_type": "code",
      "metadata": {
        "id": "LDswV76B_nuD",
        "colab_type": "code",
        "outputId": "09e10c41-5603-4dee-a227-faf087d45c5e",
        "colab": {
          "base_uri": "https://localhost:8080/",
          "height": 34
        }
      },
      "source": [
        "# Creating a text file with some text\n",
        "%%writefile sample.txt \n",
        "My name is Saptorshe Das, I am from Amtala\n",
        "By education am a Computer Enginner, By profession am a Data Scientist"
      ],
      "execution_count": 6,
      "outputs": [
        {
          "output_type": "stream",
          "text": [
            "Writing sample.txt\n"
          ],
          "name": "stdout"
        }
      ]
    },
    {
      "cell_type": "code",
      "metadata": {
        "id": "RqIvgx4ZDkKW",
        "colab_type": "code",
        "outputId": "d21aed83-62f9-4ab0-b3e7-fe95c3a42bb0",
        "colab": {
          "base_uri": "https://localhost:8080/",
          "height": 34
        }
      },
      "source": [
        "# Reading the file from .txt file\n",
        "file = open('sample.txt', 'r')\n",
        "file.read()"
      ],
      "execution_count": 7,
      "outputs": [
        {
          "output_type": "execute_result",
          "data": {
            "text/plain": [
              "'My name is Saptorshe Das, I am from Amtala\\nBy education am a Computer Enginner, By profession am a Data Scientist'"
            ]
          },
          "metadata": {
            "tags": []
          },
          "execution_count": 7
        }
      ]
    },
    {
      "cell_type": "code",
      "metadata": {
        "id": "xwbtMmy8D7E-",
        "colab_type": "code",
        "outputId": "86bfc0d3-dc55-4879-96bc-a52c4d1a15d3",
        "colab": {
          "base_uri": "https://localhost:8080/",
          "height": 34
        }
      },
      "source": [
        "file.read()"
      ],
      "execution_count": 8,
      "outputs": [
        {
          "output_type": "execute_result",
          "data": {
            "text/plain": [
              "''"
            ]
          },
          "metadata": {
            "tags": []
          },
          "execution_count": 8
        }
      ]
    },
    {
      "cell_type": "code",
      "metadata": {
        "id": "AcLJZIhLE2m1",
        "colab_type": "code",
        "colab": {}
      },
      "source": [
        "file.seek(0)\n",
        "text = file.read()"
      ],
      "execution_count": 0,
      "outputs": []
    },
    {
      "cell_type": "code",
      "metadata": {
        "id": "HFSJij5ZE54x",
        "colab_type": "code",
        "outputId": "73f50aea-8976-4299-ef57-485f3dbc10ed",
        "colab": {
          "base_uri": "https://localhost:8080/",
          "height": 51
        }
      },
      "source": [
        "print(text)"
      ],
      "execution_count": 10,
      "outputs": [
        {
          "output_type": "stream",
          "text": [
            "My name is Saptorshe Das, I am from Amtala\n",
            "By education am a Computer Enginner, By profession am a Data Scientist\n"
          ],
          "name": "stdout"
        }
      ]
    },
    {
      "cell_type": "code",
      "metadata": {
        "id": "s5vhdTCvFOjk",
        "colab_type": "code",
        "colab": {}
      },
      "source": [
        "file.close()"
      ],
      "execution_count": 0,
      "outputs": []
    },
    {
      "cell_type": "code",
      "metadata": {
        "id": "ztijtAaSFRSF",
        "colab_type": "code",
        "outputId": "45e191da-6fe5-42f2-8f8b-3e4dd51822f9",
        "colab": {
          "base_uri": "https://localhost:8080/",
          "height": 68
        }
      },
      "source": [
        "# Read text file line by line\n",
        "with open('sample.txt','r') as file:\n",
        "  data = file.readlines()\n",
        "  for lines in data:\n",
        "    print(lines)\n",
        "    "
      ],
      "execution_count": 12,
      "outputs": [
        {
          "output_type": "stream",
          "text": [
            "My name is Saptorshe Das, I am from Amtala\n",
            "\n",
            "By education am a Computer Enginner, By profession am a Data Scientist\n"
          ],
          "name": "stdout"
        }
      ]
    },
    {
      "cell_type": "code",
      "metadata": {
        "id": "XBtCKs7jHjFO",
        "colab_type": "code",
        "outputId": "82a07179-8da9-4705-95e0-f6dc761b7507",
        "colab": {
          "base_uri": "https://localhost:8080/",
          "height": 51
        }
      },
      "source": [
        "# Read word by word\n",
        "with open('sample.txt','r') as file:\n",
        "  for lines in file.readlines():\n",
        "    print(lines.split())"
      ],
      "execution_count": 13,
      "outputs": [
        {
          "output_type": "stream",
          "text": [
            "['My', 'name', 'is', 'Saptorshe', 'Das,', 'I', 'am', 'from', 'Amtala']\n",
            "['By', 'education', 'am', 'a', 'Computer', 'Enginner,', 'By', 'profession', 'am', 'a', 'Data', 'Scientist']\n"
          ],
          "name": "stdout"
        }
      ]
    },
    {
      "cell_type": "markdown",
      "metadata": {
        "id": "jP8TFq81Jl29",
        "colab_type": "text"
      },
      "source": [
        "<h1> Working with PDF File </h1>\n",
        "library needed : pyPDF2"
      ]
    },
    {
      "cell_type": "code",
      "metadata": {
        "id": "qAKRmbqzH9qL",
        "colab_type": "code",
        "outputId": "17505d02-bdc9-43c2-a7ef-3c562e4d24b8",
        "colab": {
          "base_uri": "https://localhost:8080/",
          "height": 207
        }
      },
      "source": [
        "!pip install PyPDF2"
      ],
      "execution_count": 14,
      "outputs": [
        {
          "output_type": "stream",
          "text": [
            "Collecting PyPDF2\n",
            "\u001b[?25l  Downloading https://files.pythonhosted.org/packages/b4/01/68fcc0d43daf4c6bdbc6b33cc3f77bda531c86b174cac56ef0ffdb96faab/PyPDF2-1.26.0.tar.gz (77kB)\n",
            "\r\u001b[K     |████▎                           | 10kB 14.7MB/s eta 0:00:01\r\u001b[K     |████████▌                       | 20kB 1.8MB/s eta 0:00:01\r\u001b[K     |████████████▊                   | 30kB 2.1MB/s eta 0:00:01\r\u001b[K     |█████████████████               | 40kB 2.0MB/s eta 0:00:01\r\u001b[K     |█████████████████████▏          | 51kB 2.3MB/s eta 0:00:01\r\u001b[K     |█████████████████████████▍      | 61kB 2.7MB/s eta 0:00:01\r\u001b[K     |█████████████████████████████▋  | 71kB 2.9MB/s eta 0:00:01\r\u001b[K     |████████████████████████████████| 81kB 2.6MB/s \n",
            "\u001b[?25hBuilding wheels for collected packages: PyPDF2\n",
            "  Building wheel for PyPDF2 (setup.py) ... \u001b[?25l\u001b[?25hdone\n",
            "  Created wheel for PyPDF2: filename=PyPDF2-1.26.0-cp36-none-any.whl size=61086 sha256=209cff9d4ac46e34d1b0b86f51f09ef7f39a119972eba565c801ff661ee8b5d5\n",
            "  Stored in directory: /root/.cache/pip/wheels/53/84/19/35bc977c8bf5f0c23a8a011aa958acd4da4bbd7a229315c1b7\n",
            "Successfully built PyPDF2\n",
            "Installing collected packages: PyPDF2\n",
            "Successfully installed PyPDF2-1.26.0\n"
          ],
          "name": "stdout"
        }
      ]
    },
    {
      "cell_type": "code",
      "metadata": {
        "id": "By5EZv5eJc7j",
        "colab_type": "code",
        "colab": {}
      },
      "source": [
        "import PyPDF2\n",
        "# step 1 - Read the file in binary format\n",
        "# rb stands for read binary\n",
        "# Read file from each page"
      ],
      "execution_count": 0,
      "outputs": []
    },
    {
      "cell_type": "code",
      "metadata": {
        "id": "5iQpZVbVPyxv",
        "colab_type": "code",
        "outputId": "7f21e4d2-8cf1-4b86-af7f-86c24f03aa04",
        "colab": {
          "base_uri": "https://localhost:8080/",
          "height": 88
        }
      },
      "source": [
        "with open('sample.pdf','rb') as file:\n",
        "  pdf_reader = PyPDF2.PdfFileReader(file)\n",
        "  print(pdf_reader.numPages) # Print no of pages\n",
        "  for i in range(pdf_reader.numPages):\n",
        "    content = pdf_reader.getPage(i)\n",
        "    print(content.extractText())"
      ],
      "execution_count": 16,
      "outputs": [
        {
          "output_type": "stream",
          "text": [
            "2\n",
            " A Simple PDF File  This is a small demonstration .pdf file -  just for use in the Virtual Mechanics tutorials. More text. And more  text. And more text. And more text. And more text.  And more text. And more text. And more text. And more text. And more  text. And more text. Boring, zzzzz. And more text. And more text. And  more text. And more text. And more text. And more text. And more text.  And more text. And more text.  And more text. And more text. And more text. And more text. And more  text. And more text. And more text. Even more. Continued on page 2 ...\n",
            " Simple PDF File 2  ...continued from page 1. Yet more text. And more text. And more text.  And more text. And more text. And more text. And more text. And more  text. Oh, how boring typing this stuff. But not as boring as watching  paint dry. And more text. And more text. And more text. And more text.  Boring.  More, a little more text. The end, and just as well. \n"
          ],
          "name": "stdout"
        }
      ]
    },
    {
      "cell_type": "code",
      "metadata": {
        "id": "GSNtTV5yQt_d",
        "colab_type": "code",
        "outputId": "96a8a66e-c5c9-43f3-913f-9173c73f0144",
        "colab": {
          "base_uri": "https://localhost:8080/",
          "height": 34
        }
      },
      "source": [
        "pdfcopy = open('Copy.pdf','wb') # opening it in write binary form\n",
        "# Create a new PDF file from an existing PDF  File\n",
        "with open('sample.pdf','rb') as file:\n",
        "  pdf_reader = PyPDF2.PdfFileReader(file)\n",
        "  pdf_writer = PyPDF2.PdfFileWriter()\n",
        "  print(pdf_reader.numPages) # Print no of pages\n",
        "  for i in range(pdf_reader.numPages):\n",
        "    content = pdf_reader.getPage(i)\n",
        "    #print(content.extractText())\n",
        "    pdf_writer.addPage(content)\n",
        "    pdf_writer.write(pdfcopy)\n",
        "    "
      ],
      "execution_count": 17,
      "outputs": [
        {
          "output_type": "stream",
          "text": [
            "2\n"
          ],
          "name": "stdout"
        }
      ]
    },
    {
      "cell_type": "markdown",
      "metadata": {
        "id": "_j7MjD7xTUq1",
        "colab_type": "text"
      },
      "source": [
        "<h1> Regular Expresseions </h1>"
      ]
    },
    {
      "cell_type": "code",
      "metadata": {
        "id": "wbzhNVvsPiQl",
        "colab_type": "code",
        "colab": {}
      },
      "source": [
        "import re # library for finding pattern"
      ],
      "execution_count": 0,
      "outputs": []
    },
    {
      "cell_type": "code",
      "metadata": {
        "id": "FWGlvZtFjCBB",
        "colab_type": "code",
        "colab": {}
      },
      "source": [
        "text = 'My name is Satorshe Das, My phone number is 7278660111, I am from Amtala, My another phone number is 6290088603'"
      ],
      "execution_count": 0,
      "outputs": []
    },
    {
      "cell_type": "code",
      "metadata": {
        "id": "aXHnoAAzjNmS",
        "colab_type": "code",
        "outputId": "83b73ee7-aa36-4431-8111-af7a3602fb7d",
        "colab": {
          "base_uri": "https://localhost:8080/",
          "height": 34
        }
      },
      "source": [
        "# Finding a word in the text\n",
        "'name' in text # Returns boolean value whether the particular keyword is there or not  "
      ],
      "execution_count": 33,
      "outputs": [
        {
          "output_type": "execute_result",
          "data": {
            "text/plain": [
              "True"
            ]
          },
          "metadata": {
            "tags": []
          },
          "execution_count": 33
        }
      ]
    },
    {
      "cell_type": "code",
      "metadata": {
        "id": "HA_Omg1SkPh8",
        "colab_type": "code",
        "outputId": "448ed8e1-c930-4b2f-ec83-199e8bf47a47",
        "colab": {
          "base_uri": "https://localhost:8080/",
          "height": 34
        }
      },
      "source": [
        "text.find('name') # returns the position or index"
      ],
      "execution_count": 34,
      "outputs": [
        {
          "output_type": "execute_result",
          "data": {
            "text/plain": [
              "3"
            ]
          },
          "metadata": {
            "tags": []
          },
          "execution_count": 34
        }
      ]
    },
    {
      "cell_type": "code",
      "metadata": {
        "id": "X1XKiMemkU7y",
        "colab_type": "code",
        "outputId": "7b27fc4d-836b-458d-c166-73863ab5adfe",
        "colab": {
          "base_uri": "https://localhost:8080/",
          "height": 34
        }
      },
      "source": [
        "# Find the pattern in Text\n",
        "pattern = 'phone'\n",
        "result=re.search(pattern,text)\n",
        "print(result) # Span returns the starting index of string"
      ],
      "execution_count": 35,
      "outputs": [
        {
          "output_type": "stream",
          "text": [
            "<_sre.SRE_Match object; span=(28, 33), match='phone'>\n"
          ],
          "name": "stdout"
        }
      ]
    },
    {
      "cell_type": "code",
      "metadata": {
        "id": "zJhy-_7hmpba",
        "colab_type": "code",
        "outputId": "424b6cd7-bec9-48b5-a565-034159fd8654",
        "colab": {
          "base_uri": "https://localhost:8080/",
          "height": 34
        }
      },
      "source": [
        "print(result.span()) # Returning the starting and end index"
      ],
      "execution_count": 36,
      "outputs": [
        {
          "output_type": "stream",
          "text": [
            "(28, 33)\n"
          ],
          "name": "stdout"
        }
      ]
    },
    {
      "cell_type": "code",
      "metadata": {
        "id": "8kYzwwSGmyeV",
        "colab_type": "code",
        "colab": {
          "base_uri": "https://localhost:8080/",
          "height": 51
        },
        "outputId": "3f591913-de3d-4a99-dcc3-f0f3a2fd61c8"
      },
      "source": [
        "print(result.start()) # starting index\n",
        "print(result.end()) # end index"
      ],
      "execution_count": 37,
      "outputs": [
        {
          "output_type": "stream",
          "text": [
            "28\n",
            "33\n"
          ],
          "name": "stdout"
        }
      ]
    },
    {
      "cell_type": "code",
      "metadata": {
        "id": "YeV_o6NfM-jO",
        "colab_type": "code",
        "colab": {
          "base_uri": "https://localhost:8080/",
          "height": 34
        },
        "outputId": "eeb3951c-dc4f-47d0-e6c2-efa036dc44e6"
      },
      "source": [
        "# If a pattern is repeated\n",
        "result = re.findall(pattern,text) # return the value each time it matches the pattern in text\n",
        "print(result)\n",
        "print(len(result)) # Printing no of times pattern is repeated"
      ],
      "execution_count": 41,
      "outputs": [
        {
          "output_type": "stream",
          "text": [
            "['phone', 'phone']\n"
          ],
          "name": "stdout"
        }
      ]
    },
    {
      "cell_type": "code",
      "metadata": {
        "id": "DhERjIqVNmmB",
        "colab_type": "code",
        "colab": {
          "base_uri": "https://localhost:8080/",
          "height": 51
        },
        "outputId": "ad44c56b-b135-4993-cf9a-056f6836cb0c"
      },
      "source": [
        "# Find phone number from a text : as generally phone no pattern is 10 digit integer so we need to find where the 10 digit pattern is in the text\n",
        "phone_pattern1 = r'\\d\\d\\d\\d\\d\\d\\d\\d\\d\\d'   # \\d stands for integer\n",
        "phone_pattern2 = r'\\d{10}' # in the bracket it is mentioned how many times \\d should be repeated \n",
        "result1 = re.search(phone_pattern1,text)\n",
        "print(result1)\n",
        "result2 = re.search(phone_pattern2,text)\n",
        "print(result2)"
      ],
      "execution_count": 44,
      "outputs": [
        {
          "output_type": "stream",
          "text": [
            "<_sre.SRE_Match object; span=(44, 54), match='7278660111'>\n",
            "<_sre.SRE_Match object; span=(44, 54), match='7278660111'>\n"
          ],
          "name": "stdout"
        }
      ]
    },
    {
      "cell_type": "code",
      "metadata": {
        "id": "80LYFedmPsiF",
        "colab_type": "code",
        "colab": {
          "base_uri": "https://localhost:8080/",
          "height": 34
        },
        "outputId": "7078dcf8-5812-4206-d80d-f4e070c88a5c"
      },
      "source": [
        "result1.group() # Returns the extracted value"
      ],
      "execution_count": 47,
      "outputs": [
        {
          "output_type": "execute_result",
          "data": {
            "text/plain": [
              "'7278660111'"
            ]
          },
          "metadata": {
            "tags": []
          },
          "execution_count": 47
        }
      ]
    },
    {
      "cell_type": "code",
      "metadata": {
        "id": "RBYft2rVPFJn",
        "colab_type": "code",
        "colab": {
          "base_uri": "https://localhost:8080/",
          "height": 51
        },
        "outputId": "7212d999-0a42-4df7-ee59-ded83225aec2"
      },
      "source": [
        "# Find repeated pattern of phone number\n",
        "pattern = r'\\d{10}'\n",
        "result = re.findall(pattern,text)\n",
        "for i in result:\n",
        "  print(i)"
      ],
      "execution_count": 46,
      "outputs": [
        {
          "output_type": "stream",
          "text": [
            "7278660111\n",
            "6290088603\n"
          ],
          "name": "stdout"
        }
      ]
    },
    {
      "cell_type": "code",
      "metadata": {
        "id": "4mgKoOrzPhd2",
        "colab_type": "code",
        "colab": {
          "base_uri": "https://localhost:8080/",
          "height": 34
        },
        "outputId": "6c78cd55-d0cd-4ee1-b5d4-2637c7acd262"
      },
      "source": [
        "# Concept of piping , find out whether any of these pattern is there or not\n",
        "pattern = \"man|woman\"\n",
        "text = \"he is a man but she is a woman\"\n",
        "result = re.findall(pattern,text)\n",
        "print(result)"
      ],
      "execution_count": 49,
      "outputs": [
        {
          "output_type": "stream",
          "text": [
            "['man', 'woman']\n"
          ],
          "name": "stdout"
        }
      ]
    },
    {
      "cell_type": "code",
      "metadata": {
        "id": "DxwSKzJXTQCL",
        "colab_type": "code",
        "colab": {
          "base_uri": "https://localhost:8080/",
          "height": 51
        },
        "outputId": "b0d220dd-8e83-4421-bb6d-7e5af8c43c9b"
      },
      "source": [
        "# Find a particular portion from a text\n",
        "text = ' My name is shiba, that woman is my best friend. He is a man'\n",
        "pattern = 'man.' \n",
        "result = re.findall(pattern,text) # Find the last man\n",
        "print(result)\n",
        "pattern = '.man'\n",
        "result = re.findall(pattern,text)\n",
        "print(result)"
      ],
      "execution_count": 60,
      "outputs": [
        {
          "output_type": "stream",
          "text": [
            "['man ']\n",
            "['oman', ' man']\n"
          ],
          "name": "stdout"
        }
      ]
    },
    {
      "cell_type": "code",
      "metadata": {
        "id": "G94fK6OKTlUr",
        "colab_type": "code",
        "colab": {
          "base_uri": "https://localhost:8080/",
          "height": 51
        },
        "outputId": "bcc6ad21-8c04-4966-f3fb-a274b48368e2"
      },
      "source": [
        "# Find a number at begining \n",
        "text = \"7 is my favourite number\"\n",
        "print(re.search('^\\d',text))"
      ],
      "execution_count": 61,
      "outputs": [
        {
          "output_type": "stream",
          "text": [
            "<_sre.SRE_Match object; span=(0, 1), match='7'>\n",
            "ERROR! Session/line number was not unique in database. History logging moved to new session 60\n"
          ],
          "name": "stdout"
        }
      ]
    },
    {
      "cell_type": "code",
      "metadata": {
        "id": "jsMIiPrvToPM",
        "colab_type": "code",
        "colab": {
          "base_uri": "https://localhost:8080/",
          "height": 34
        },
        "outputId": "734528fc-f5c9-45a8-ad60-4e7178ccc3d2"
      },
      "source": [
        "# Find a number at the end\n",
        "text = '7 is my favourite number also 1'\n",
        "print(re.search('\\d$',text))"
      ],
      "execution_count": 62,
      "outputs": [
        {
          "output_type": "stream",
          "text": [
            "<_sre.SRE_Match object; span=(30, 31), match='1'>\n"
          ],
          "name": "stdout"
        }
      ]
    },
    {
      "cell_type": "code",
      "metadata": {
        "id": "Td-E4cKEVRs-",
        "colab_type": "code",
        "colab": {
          "base_uri": "https://localhost:8080/",
          "height": 51
        },
        "outputId": "579fcd86-c805-4230-ab0a-fb5750ab10ec"
      },
      "source": [
        "# Exclude the numbers from a text\n",
        "text = '10 my number is 32 at end 89'\n",
        "print(re.findall(r\"[^\\d]\",text))\n",
        "print(re.findall(r\"[^\\d]+\",text))"
      ],
      "execution_count": 67,
      "outputs": [
        {
          "output_type": "stream",
          "text": [
            "[' ', 'm', 'y', ' ', 'n', 'u', 'm', 'b', 'e', 'r', ' ', 'i', 's', ' ', ' ', 'a', 't', ' ', 'e', 'n', 'd', ' ']\n",
            "[' my number is ', ' at end ']\n"
          ],
          "name": "stdout"
        }
      ]
    },
    {
      "cell_type": "code",
      "metadata": {
        "id": "ayalpy8RWO8s",
        "colab_type": "code",
        "colab": {}
      },
      "source": [
        "# create a string from a list\n",
        "string = ''.join(re.findall(r\"[^\\d]+\",text))"
      ],
      "execution_count": 0,
      "outputs": []
    },
    {
      "cell_type": "code",
      "metadata": {
        "id": "kvZ2PV_wXPpe",
        "colab_type": "code",
        "colab": {
          "base_uri": "https://localhost:8080/",
          "height": 34
        },
        "outputId": "f6c45128-81ff-49cd-c590-cfa8b12ca577"
      },
      "source": [
        "print(string)"
      ],
      "execution_count": 69,
      "outputs": [
        {
          "output_type": "stream",
          "text": [
            " my number is  at end \n"
          ],
          "name": "stdout"
        }
      ]
    }
  ]
}