{
  "nbformat": 4,
  "nbformat_minor": 0,
  "metadata": {
    "colab": {
      "name": "Natural Language Processing Part 6 - Stop Words.ipynb",
      "provenance": [],
      "authorship_tag": "ABX9TyOeBFM0nNnaV0OWz7YvgNzJ",
      "include_colab_link": true
    },
    "kernelspec": {
      "name": "python3",
      "display_name": "Python 3"
    }
  },
  "cells": [
    {
      "cell_type": "markdown",
      "metadata": {
        "id": "view-in-github",
        "colab_type": "text"
      },
      "source": [
        "<a href=\"https://colab.research.google.com/github/iamsaptorshe07/Natural-Language-Processing-Tutorial/blob/master/Natural_Language_Processing_Part_6_Stop_Words.ipynb\" target=\"_parent\"><img src=\"https://colab.research.google.com/assets/colab-badge.svg\" alt=\"Open In Colab\"/></a>"
      ]
    },
    {
      "cell_type": "code",
      "metadata": {
        "id": "m36GNmYMc0bC",
        "colab_type": "code",
        "colab": {}
      },
      "source": [
        "import spacy\n",
        "import nltk\n",
        "nlp = spacy.load('en_core_web_sm')"
      ],
      "execution_count": 0,
      "outputs": []
    },
    {
      "cell_type": "code",
      "metadata": {
        "id": "-F5JricDdD2I",
        "colab_type": "code",
        "colab": {
          "base_uri": "https://localhost:8080/",
          "height": 54
        },
        "outputId": "8878188b-a42e-4ca0-b892-22494dd1b55b"
      },
      "source": [
        "# Print the list of stop words listed on Spacy\n",
        "print(nlp.Defaults.stop_words)"
      ],
      "execution_count": 2,
      "outputs": [
        {
          "output_type": "stream",
          "text": [
            "{'top', 'part', 'various', 'which', 'or', 'from', 'somewhere', 'five', 'mine', 'do', '’d', 'although', 'off', 'towards', 'hereupon', 'was', 'some', 'yet', 'yourself', 'another', 'only', 'sixty', 'alone', 'throughout', 'thereafter', 'two', '’m', 'done', \"'re\", 'across', 'again', 'least', 'nothing', 'front', 'whereby', 'latter', 'into', 'within', \"'d\", 'beside', 'hence', 'if', 'six', 'him', 'anyhow', 'much', 'you', 'together', 'one', 'wherever', '’ve', 'please', 'hers', 'whereas', 'through', 'as', 'except', 'all', 'anyone', 'over', 'your', 'either', 'seem', 'everything', 'for', 'empty', 'myself', 'get', 'anyway', 'along', 'per', 'them', 'on', 'beyond', 'have', 'out', 'without', 'to', '‘m', 'further', 'are', 'so', 'these', 'thru', 'how', 'why', 'give', 'who', 'sometime', 'very', 'after', 'once', 'does', 'thereupon', 'during', 'it', 'anything', 'am', 'none', 'i', 'nevertheless', 'nor', 'somehow', 'elsewhere', 'formerly', 'there', 'can', 'until', 'by', 'be', 'everyone', 'first', 'moreover', 'show', 'still', 'otherwise', 'full', 'than', 'meanwhile', 'a', 'whose', 'they', '‘d', 'more', 're', 'whoever', 'but', 'well', 'with', '‘re', 'fifteen', 'ourselves', '‘ve', 'say', 'below', 'onto', 'regarding', 'since', 'its', 'becomes', 'an', 'at', 'here', 'twenty', 'often', 'ours', 'while', 'such', 'few', 'his', \"'ve\", 'own', 'neither', 'yourselves', 'keep', 'when', 'unless', 'herein', 'serious', 'could', 'namely', 'due', 'sometimes', 'whom', 'thus', 'forty', 'however', '’re', 'because', 'eight', 'amount', 'yours', 'used', 'whither', 'almost', '‘ll', 'former', 'eleven', 'what', 'cannot', 'n’t', 'her', 'four', 'wherein', 'toward', 'between', 'just', 'anywhere', 'side', 'never', 'afterwards', '’s', 'my', 'thereby', 'already', 'not', 'under', 'those', '’ll', 'might', 'whatever', 'less', 'may', 'of', 'me', 'been', 'nine', 'whenever', 'nowhere', 'and', 'then', 'bottom', 'no', 'see', 'herself', '‘s', 'around', 'that', \"'s\", 'someone', 'last', 'also', 'she', 'using', 'down', 'perhaps', 'doing', 'twelve', 'whether', 'back', 'therein', 'others', 'behind', 'besides', 'same', 'third', 'hereafter', 'mostly', 'should', 'something', 'take', 'whereupon', 'among', 'move', 'becoming', 'ca', 'is', 'most', 'even', 'each', 'nobody', 'rather', 'really', 'their', 'too', 'hereby', 'against', 'were', 'itself', 'us', 'beforehand', 'fifty', 'any', 'seems', 'thence', 'though', 'now', 'where', 'indeed', 'in', 'many', 'seeming', 'next', 'put', 'would', 'became', 'else', 'himself', 'everywhere', 'he', 'up', 'our', 'whence', 'call', 'did', 'name', 'before', 'ever', 'being', 'via', 'whole', \"n't\", 'n‘t', 'seemed', 'about', 'go', 'noone', 'we', 'three', \"'m\", 'the', 'themselves', 'whereafter', 'quite', 'become', 'has', 'must', 'several', 'make', 'will', \"'ll\", 'ten', 'both', 'hundred', 'other', 'enough', 'this', 'always', 'had', 'amongst', 'above', 'latterly', 'made', 'upon', 'therefore', 'every'}\n"
          ],
          "name": "stdout"
        }
      ]
    },
    {
      "cell_type": "code",
      "metadata": {
        "id": "-x-FaR12dWpk",
        "colab_type": "code",
        "colab": {
          "base_uri": "https://localhost:8080/",
          "height": 34
        },
        "outputId": "029e316d-86e1-4a6d-e957-c51ec7249373"
      },
      "source": [
        "# Print the lenth of the default stop word\n",
        "len(nlp.Defaults.stop_words)"
      ],
      "execution_count": 3,
      "outputs": [
        {
          "output_type": "execute_result",
          "data": {
            "text/plain": [
              "326"
            ]
          },
          "metadata": {
            "tags": []
          },
          "execution_count": 3
        }
      ]
    },
    {
      "cell_type": "code",
      "metadata": {
        "id": "FZZYZoPRdiyW",
        "colab_type": "code",
        "colab": {
          "base_uri": "https://localhost:8080/",
          "height": 34
        },
        "outputId": "e4d836c4-5bc6-4a3d-a1eb-d7635d97e8e0"
      },
      "source": [
        "# Check whether a particular word is there in the default list or not\n",
        "'can' in nlp.Defaults.stop_words"
      ],
      "execution_count": 4,
      "outputs": [
        {
          "output_type": "execute_result",
          "data": {
            "text/plain": [
              "True"
            ]
          },
          "metadata": {
            "tags": []
          },
          "execution_count": 4
        }
      ]
    },
    {
      "cell_type": "code",
      "metadata": {
        "id": "JvyZT0v_dr__",
        "colab_type": "code",
        "colab": {
          "base_uri": "https://localhost:8080/",
          "height": 34
        },
        "outputId": "c821364d-411b-4c4c-c505-53a5fb03249d"
      },
      "source": [
        "'shiba' in nlp.Defaults.stop_words"
      ],
      "execution_count": 5,
      "outputs": [
        {
          "output_type": "execute_result",
          "data": {
            "text/plain": [
              "False"
            ]
          },
          "metadata": {
            "tags": []
          },
          "execution_count": 5
        }
      ]
    },
    {
      "cell_type": "code",
      "metadata": {
        "id": "FaVoPsJYdvPM",
        "colab_type": "code",
        "colab": {
          "base_uri": "https://localhost:8080/",
          "height": 34
        },
        "outputId": "e39b91f0-2ad4-432d-d016-2b609d028a1e"
      },
      "source": [
        "# Check whether a word is a stop word or not\n",
        "nlp.vocab['but'].is_stop"
      ],
      "execution_count": 7,
      "outputs": [
        {
          "output_type": "execute_result",
          "data": {
            "text/plain": [
              "True"
            ]
          },
          "metadata": {
            "tags": []
          },
          "execution_count": 7
        }
      ]
    },
    {
      "cell_type": "code",
      "metadata": {
        "id": "fzf_Wf6weSgE",
        "colab_type": "code",
        "colab": {}
      },
      "source": [
        "# Add stop words in this default stop word list\n",
        "lst = ['PFA','Fuck','Butt']\n",
        "for i in lst:\n",
        "  nlp.Defaults.stop_words.add(i)\n",
        "  nlp.vocab[i].is_stop = True"
      ],
      "execution_count": 0,
      "outputs": []
    },
    {
      "cell_type": "code",
      "metadata": {
        "id": "6wfIs2YjfHgZ",
        "colab_type": "code",
        "colab": {
          "base_uri": "https://localhost:8080/",
          "height": 34
        },
        "outputId": "c7719f97-f414-4fef-f9d5-12ee95bb1969"
      },
      "source": [
        "'Fuck' in nlp.Defaults.stop_words"
      ],
      "execution_count": 11,
      "outputs": [
        {
          "output_type": "execute_result",
          "data": {
            "text/plain": [
              "True"
            ]
          },
          "metadata": {
            "tags": []
          },
          "execution_count": 11
        }
      ]
    },
    {
      "cell_type": "code",
      "metadata": {
        "id": "m60Vc_BTfYvL",
        "colab_type": "code",
        "colab": {
          "base_uri": "https://localhost:8080/",
          "height": 34
        },
        "outputId": "b4c91ee2-1b94-4466-f6c5-8293d00653d7"
      },
      "source": [
        "len(nlp.Defaults.stop_words)"
      ],
      "execution_count": 12,
      "outputs": [
        {
          "output_type": "execute_result",
          "data": {
            "text/plain": [
              "329"
            ]
          },
          "metadata": {
            "tags": []
          },
          "execution_count": 12
        }
      ]
    }
  ]
}